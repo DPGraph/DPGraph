{
 "cells": [
  {
   "cell_type": "code",
   "execution_count": 1,
   "metadata": {},
   "outputs": [],
   "source": [
    "%load_ext autoreload\n",
    "%autoreload 2"
   ]
  },
  {
   "cell_type": "code",
   "execution_count": 9,
   "metadata": {},
   "outputs": [],
   "source": [
    "import recursive\n",
    "\n",
    "import pandas as pd\n",
    "import numpy as np\n",
    "import seaborn as sns\n",
    "import matplotlib.pyplot as plt"
   ]
  },
  {
   "cell_type": "markdown",
   "metadata": {},
   "source": [
    "# Toy Example 1"
   ]
  },
  {
   "cell_type": "code",
   "execution_count": 7,
   "metadata": {},
   "outputs": [
    {
     "data": {
      "text/plain": [
       "'local sensitivity is 2'"
      ]
     },
     "metadata": {},
     "output_type": "display_data"
    },
    {
     "name": "stderr",
     "output_type": "stream",
     "text": [
      "100%|██████████| 8/8 [00:00<00:00, 192.35it/s]\n"
     ]
    },
    {
     "data": {
      "text/plain": [
       "'delta is 1.2214027581601699'"
      ]
     },
     "metadata": {},
     "output_type": "display_data"
    },
    {
     "data": {
      "text/plain": [
       "'X is 1.145278850541975'"
      ]
     },
     "metadata": {},
     "output_type": "display_data"
    },
    {
     "data": {
      "text/plain": [
       "{'noisy': 0.7603874648907467, 'truth': 2}"
      ]
     },
     "execution_count": 7,
     "metadata": {},
     "output_type": "execute_result"
    }
   ],
   "source": [
    "'''\n",
    "0\n",
    "\n",
    "\n",
    "2\n",
    "| \\\n",
    "|   \\\n",
    "3    1\n",
    "|\\  / \\\n",
    "| \\/   \\\n",
    "4--5----6\n",
    "'''\n",
    "edges1 = [\n",
    "    [1,2],\n",
    "    [2,3],\n",
    "    [3,4],\n",
    "    [4,5],\n",
    "    [3,5],\n",
    "    [1,5],\n",
    "    [5,6],\n",
    "    [1,6]\n",
    "]\n",
    "\n",
    "n = 7\n",
    "edges = pd.DataFrame(edges1, columns=['f', 't'])\n",
    "query = 'triangle'\n",
    "eps1 = 1\n",
    "eps2 = 1\n",
    "theta = 1\n",
    "beta = eps1/5\n",
    "mu = 1\n",
    "recursive.recursive(n, edges, query, eps1, eps2, theta, beta, mu, logging=True)"
   ]
  },
  {
   "cell_type": "code",
   "execution_count": 13,
   "metadata": {},
   "outputs": [
    {
     "name": "stderr",
     "output_type": "stream",
     "text": [
      "/home/yuchao/anaconda3/lib/python3.8/site-packages/seaborn/_decorators.py:36: FutureWarning: Pass the following variable as a keyword arg: x. From version 0.12, the only valid positional argument will be `data`, and passing other arguments without an explicit keyword will result in an error or misinterpretation.\n",
      "  warnings.warn(\n"
     ]
    },
    {
     "data": {
      "text/plain": [
       "Text(0.5, 1.0, 'absolute error; truth = 2')"
      ]
     },
     "execution_count": 13,
     "metadata": {},
     "output_type": "execute_result"
    },
    {
     "data": {
      "image/png": "[encoded data removed]",
      "text/plain": [
       "<Figure size 432x288 with 1 Axes>"
      ]
     },
     "metadata": {
      "needs_background": "light"
     },
     "output_type": "display_data"
    }
   ],
   "source": [
    "reses = [recursive.recursive(n, edges, query, eps1, eps2, theta, beta, mu) for i in range(10)]\n",
    "fig, ax = plt.subplots()\n",
    "sns.boxplot([abs(res['noisy'] - res['truth']) for res in reses])\n",
    "ax.set_title(f'absolute error; truth = {reses[0][\"truth\"]}')"
   ]
  },
  {
   "cell_type": "markdown",
   "metadata": {},
   "source": [
    "# Toy Example 2"
   ]
  },
  {
   "cell_type": "code",
   "execution_count": 15,
   "metadata": {},
   "outputs": [
    {
     "data": {
      "text/plain": [
       "'local sensitivity is 3'"
      ]
     },
     "metadata": {},
     "output_type": "display_data"
    },
    {
     "name": "stderr",
     "output_type": "stream",
     "text": [
      "100%|██████████| 8/8 [00:00<00:00, 145.99it/s]\n"
     ]
    },
    {
     "data": {
      "text/plain": [
       "'delta is 1.4918246976412703'"
      ]
     },
     "metadata": {},
     "output_type": "display_data"
    },
    {
     "data": {
      "text/plain": [
       "'X is 2.578866837037557'"
      ]
     },
     "metadata": {},
     "output_type": "display_data"
    },
    {
     "data": {
      "text/plain": [
       "{'noisy': 2.7444574514988878, 'truth': 4}"
      ]
     },
     "execution_count": 15,
     "metadata": {},
     "output_type": "execute_result"
    }
   ],
   "source": [
    "'''\n",
    "0\n",
    "\n",
    "\n",
    "2\n",
    "| \\\n",
    "|   \\\n",
    "3----1\n",
    "|\\  / \\\n",
    "| \\/   \\\n",
    "4--5----6\n",
    "'''\n",
    "edges2 = [\n",
    "    [1,2],\n",
    "    [2,3],\n",
    "    [3,4],\n",
    "    [4,5],\n",
    "    [3,5],\n",
    "    [1,5],\n",
    "    [5,6],\n",
    "    [1,6],\n",
    "    [1,3]\n",
    "]\n",
    "\n",
    "n = 7\n",
    "edges = pd.DataFrame(edges2, columns=['f', 't'])\n",
    "query = 'triangle'\n",
    "eps1 = 1\n",
    "eps2 = 1\n",
    "theta = 1\n",
    "beta = eps1/5\n",
    "mu = 0\n",
    "recursive.recursive(n, edges, query, eps1, eps2, theta, beta, mu, logging=True)"
   ]
  },
  {
   "cell_type": "code",
   "execution_count": 16,
   "metadata": {},
   "outputs": [
    {
     "name": "stderr",
     "output_type": "stream",
     "text": [
      "/home/yuchao/anaconda3/lib/python3.8/site-packages/seaborn/_decorators.py:36: FutureWarning: Pass the following variable as a keyword arg: x. From version 0.12, the only valid positional argument will be `data`, and passing other arguments without an explicit keyword will result in an error or misinterpretation.\n",
      "  warnings.warn(\n"
     ]
    },
    {
     "data": {
      "text/plain": [
       "Text(0.5, 1.0, 'absolute error; truth = 4')"
      ]
     },
     "execution_count": 16,
     "metadata": {},
     "output_type": "execute_result"
    },
    {
     "data": {
      "image/png": "[encoded data removed]",
      "text/plain": [
       "<Figure size 432x288 with 1 Axes>"
      ]
     },
     "metadata": {
      "needs_background": "light"
     },
     "output_type": "display_data"
    }
   ],
   "source": [
    "reses = [recursive.recursive(n, edges, query, eps1, eps2, theta, beta, mu) for i in range(10)]\n",
    "fig, ax = plt.subplots()\n",
    "sns.boxplot([abs(res['noisy'] - res['truth']) for res in reses])\n",
    "ax.set_title(f'absolute error; truth = {reses[0][\"truth\"]}')"
   ]
  },
  {
   "cell_type": "markdown",
   "metadata": {},
   "source": [
    "# P-random graph"
   ]
  },
  {
   "cell_type": "code",
   "execution_count": 18,
   "metadata": {},
   "outputs": [],
   "source": [
    "# Generate p-random graph\n",
    "n = 50\n",
    "p = 0.2\n",
    "p_random_edges = []\n",
    "for i in range(n):\n",
    "    for j in range(i+1, n):\n",
    "        if np.random.uniform() < p:\n",
    "            p_random_edges.append([i, j])"
   ]
  },
  {
   "cell_type": "code",
   "execution_count": 22,
   "metadata": {},
   "outputs": [
    {
     "data": {
      "text/plain": [
       "'local sensitivity is 16'"
      ]
     },
     "metadata": {},
     "output_type": "display_data"
    },
    {
     "name": "stderr",
     "output_type": "stream",
     "text": [
      "100%|██████████| 51/51 [00:01<00:00, 36.46it/s]\n"
     ]
    },
    {
     "data": {
      "text/plain": [
       "'delta is 4.953032424395115'"
      ]
     },
     "metadata": {},
     "output_type": "display_data"
    },
    {
     "data": {
      "text/plain": [
       "'X is 79.05791252451482'"
      ]
     },
     "metadata": {},
     "output_type": "display_data"
    },
    {
     "data": {
      "text/plain": [
       "{'noisy': 83.73908997831182, 'truth': 102}"
      ]
     },
     "execution_count": 22,
     "metadata": {},
     "output_type": "execute_result"
    }
   ],
   "source": [
    "n = n\n",
    "edges = pd.DataFrame(p_random_edges, columns=['f', 't'])\n",
    "query = 'triangle'\n",
    "eps1 = 1\n",
    "eps2 = 1\n",
    "theta = 1\n",
    "beta = eps1/5\n",
    "mu = 1\n",
    "recursive.recursive(n, edges, query, eps1, eps2, theta, beta, mu, logging=True)"
   ]
  },
  {
   "cell_type": "code",
   "execution_count": 23,
   "metadata": {},
   "outputs": [
    {
     "name": "stderr",
     "output_type": "stream",
     "text": [
      "/home/yuchao/anaconda3/lib/python3.8/site-packages/seaborn/_decorators.py:36: FutureWarning: Pass the following variable as a keyword arg: x. From version 0.12, the only valid positional argument will be `data`, and passing other arguments without an explicit keyword will result in an error or misinterpretation.\n",
      "  warnings.warn(\n"
     ]
    },
    {
     "data": {
      "text/plain": [
       "Text(0.5, 1.0, 'absolute error; truth = 102')"
      ]
     },
     "execution_count": 23,
     "metadata": {},
     "output_type": "execute_result"
    },
    {
     "data": {
      "image/png": "[encoded data removed]",
      "text/plain": [
       "<Figure size 432x288 with 1 Axes>"
      ]
     },
     "metadata": {
      "needs_background": "light"
     },
     "output_type": "display_data"
    }
   ],
   "source": [
    "reses = [recursive.recursive(n, edges, query, eps1, eps2, theta, beta, mu) for i in range(10)]\n",
    "fig, ax = plt.subplots()\n",
    "sns.boxplot([abs(res['noisy'] - res['truth']) for res in reses])\n",
    "ax.set_title(f'absolute error; truth = {reses[0][\"truth\"]}')"
   ]
  },
  {
   "cell_type": "code",
   "execution_count": null,
   "metadata": {},
   "outputs": [],
   "source": []
  }
 ],
 "metadata": {
  "kernelspec": {
   "display_name": "Python 3",
   "language": "python",
   "name": "python3"
  },
  "language_info": {
   "codemirror_mode": {
    "name": "ipython",
    "version": 3
   },
   "file_extension": ".py",
   "mimetype": "text/x-python",
   "name": "python",
   "nbconvert_exporter": "python",
   "pygments_lexer": "ipython3",
   "version": "3.8.5"
  }
 },
 "nbformat": 4,
 "nbformat_minor": 4
}
