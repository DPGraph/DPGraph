{
 "cells": [
  {
   "cell_type": "markdown",
   "metadata": {},
   "source": [
    "# Edge DP algorithms for degree distribution "
   ]
  },
  {
   "cell_type": "code",
   "execution_count": 1,
   "metadata": {},
   "outputs": [],
   "source": [
    "import util\n",
    "\n",
    "#Hay et al. ICDM'09 (baseline)\n",
    "def edgedp_deg_his_lap(G, max_deg, epsilon):\n",
    "    degHis = util.get_deg_his(G, max_deg)\n",
    "    sens = 4.0\n",
    "    noisy_his = util.add_laplace(degHis, sens, epsilon)\n",
    "    noisy_his = util.post_process_pdf(noisy_his, len(G.nodes()))\n",
    "    return noisy_his\n",
    "\n",
    "\n",
    "#Hay et al. ICDM'09, Proserpio et al. WOSN'12 (wPINQ)\n",
    "def edgedp_deg_seq_lap(G, max_deg, epsilon):\n",
    "    degSeq = np.array(util.get_sorted_deg_seq(G))\n",
    "    sens = 2.0\n",
    "    noisy_seq = util.add_laplace(degSeq, sens,epsilon)\n",
    "    noisy_seq = util.post_process_cdf(noisy_seq, max_deg)\n",
    "    noisy_his = util.deg_seq_to_deg_his(noisy_seq, max_deg)\n",
    "    return noisy_his\n",
    "\n"
   ]
  },
  {
   "cell_type": "markdown",
   "metadata": {},
   "source": [
    "## Evaluation"
   ]
  },
  {
   "cell_type": "code",
   "execution_count": null,
   "metadata": {},
   "outputs": [],
   "source": [
    "import constants\n",
    "import networkx as nx\n",
    "import numpy as np\n",
    "\n",
    "algos = [\"edgeDP_degHis_Lap\", \"edgeDP_degSeq_Lap\"]\n",
    "epsilon_list = [0.01,0.02,0.05,0.1,0.2,0.5,1.0,2.0,5.0,10.0]\n",
    "repeats = 3\n",
    "\n",
    "data_dir = \"data/\" # REPLACE WITH YOUR DATASET DIRECTORY\n",
    "data_key = 2\n",
    "data_file = data_dir + constants.DATASETS[data_key]\n",
    "\n",
    "G = nx.read_edgelist(data_file, nodetype=int)\n",
    "\n",
    "num_nodes = len(G.nodes()) # assume this is given\n",
    "max_deg = num_nodes - 1  \n",
    "\n",
    "true_histogram = util.get_deg_his(G, max_deg)\n",
    "\n",
    "errors = []\n",
    "stds = []\n",
    "for algo in algos:\n",
    "    algo_errors = []\n",
    "    algo_stds = []\n",
    "    \n",
    "    for epsilon in epsilon_list:\n",
    "        temp_errors = []\n",
    "        for i in range(repeats):\n",
    "            noisy_histogram = np.zeros(max_deg + 1)\n",
    "            if algo == \"edgeDP_degHis_Lap\":        \n",
    "                noisy_histogram = edgeDP_deg_his_lap(G,max_deg,epsilon)\n",
    "            elif algo == \"edgeDP_degSeq_Lap\":\n",
    "                noisy_histogram = edgeDP_deg_seq_lap(G,max_deg,epsilon)\n",
    "            noisy_pdf = noisy_histogram / num_nodes\n",
    "            error = util.dif_deg_his_L1(true_histogram/num_nodes, noisy_pdf)\n",
    "            temp_errors.append(error)\n",
    "        algo_errors.append( np.mean(temp_errors))\n",
    "        algo_stds.append(np.std(temp_errors))\n",
    "        \n",
    "    errors.append(algo_errors)\n",
    "    stds.append(algo_stds)\n",
    "\n"
   ]
  },
  {
   "cell_type": "code",
   "execution_count": 22,
   "metadata": {},
   "outputs": [
    {
     "data": {
      "image/png": "[encoded data removed]",
      "text/plain": [
       "<Figure size 432x288 with 1 Axes>"
      ]
     },
     "metadata": {
      "needs_background": "light"
     },
     "output_type": "display_data"
    }
   ],
   "source": [
    "import matplotlib.pyplot as plt\n",
    "\n",
    "plt.errorbar(epsilon_list, errors[0], yerr=stds[0], marker='^', ecolor='red', c='orange')\n",
    "plt.errorbar(epsilon_list, errors[1], yerr=stds[1], marker='.', ecolor='blue', c='green')\n",
    "plt.show()"
   ]
  },
  {
   "cell_type": "code",
   "execution_count": null,
   "metadata": {},
   "outputs": [],
   "source": []
  }
 ],
 "metadata": {
  "kernelspec": {
   "display_name": "Python 3",
   "language": "python",
   "name": "python3"
  },
  "language_info": {
   "codemirror_mode": {
    "name": "ipython",
    "version": 3
   },
   "file_extension": ".py",
   "mimetype": "text/x-python",
   "name": "python",
   "nbconvert_exporter": "python",
   "pygments_lexer": "ipython3",
   "version": "3.7.4"
  }
 },
 "nbformat": 4,
 "nbformat_minor": 2
}
